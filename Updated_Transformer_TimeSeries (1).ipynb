{
  "nbformat": 4,
  "nbformat_minor": 0,
  "metadata": {
    "accelerator": "GPU",
    "colab": {
      "provenance": [],
      "collapsed_sections": [
        "hjxq9b5QJdUt",
        "ePlFLhn91dFQ"
      ],
      "toc_visible": true
    },
    "kernelspec": {
      "display_name": "Python 3",
      "name": "python3"
    }
  },
  "cells": [
    {
      "cell_type": "markdown",
      "metadata": {
        "id": "ETftCBXX8oO2"
      },
      "source": [
        "# Setup"
      ]
    },
    {
      "cell_type": "code",
      "metadata": {
        "colab": {
          "base_uri": "https://localhost:8080/"
        },
        "id": "0E3BimCxf_8g",
        "outputId": "5c93f363-c77d-4c98-dc60-8ce415f0f30b"
      },
      "source": [
        "from google.colab import drive\n",
        "drive.mount('/content/drive')"
      ],
      "execution_count": null,
      "outputs": [
        {
          "output_type": "stream",
          "text": [
            "Mounted at /content/drive\n"
          ],
          "name": "stdout"
        }
      ]
    },
    {
      "cell_type": "code",
      "metadata": {
        "colab": {
          "base_uri": "https://localhost:8080/"
        },
        "id": "xjigBQOVgEWk",
        "outputId": "7871afbd-4313-48bd-9ee0-d290525de48c"
      },
      "source": [
        "%cd \"/content/drive/MyDrive/models/Transformer\""
      ],
      "execution_count": null,
      "outputs": [
        {
          "output_type": "stream",
          "text": [
            "/content/drive/MyDrive/models/Transformer\n"
          ],
          "name": "stdout"
        }
      ]
    },
    {
      "cell_type": "code",
      "metadata": {
        "colab": {
          "base_uri": "https://localhost:8080/"
        },
        "id": "IBGd-Hyn8c6i",
        "outputId": "624eb4b8-3126-4990-9c1a-bd2a40a21077"
      },
      "source": [
        "!ls"
      ],
      "execution_count": null,
      "outputs": [
        {
          "output_type": "stream",
          "text": [
            " 100AffluentHouses.csv\t\t CNN-rp.h5\t models\n",
            " 10Houses.csv\t\t\t'Final Models'\t transformer_graph.png\n",
            " 10Houses.gsheet\t\t GRU.h5\t\t tst\n",
            " 10TestHouses.csv\t\t loss.png\n",
            "'big_model_4_layer(graph).pth'\t LSTM.h5\n"
          ],
          "name": "stdout"
        }
      ]
    },
    {
      "cell_type": "markdown",
      "metadata": {
        "id": "Vln6HwxT8lNA"
      },
      "source": [
        "# Model"
      ]
    },
    {
      "cell_type": "code",
      "metadata": {
        "id": "htuJK18j8nPv"
      },
      "source": [
        "import datetime\n",
        "\n",
        "import numpy as np\n",
        "from matplotlib import pyplot as plt\n",
        "import torch\n",
        "import torch.nn as nn\n",
        "import torch.optim as optim\n",
        "from torch.utils.data import DataLoader, random_split\n",
        "from tqdm import tqdm\n",
        "import seaborn as sns\n",
        "\n",
        "from tst import Transformer"
      ],
      "execution_count": null,
      "outputs": []
    },
    {
      "cell_type": "code",
      "metadata": {
        "colab": {
          "base_uri": "https://localhost:8080/"
        },
        "id": "XP1QeqKV8zJP",
        "outputId": "ced843ba-2f74-41a7-d1f5-9d37a3433488"
      },
      "source": [
        "# Training parameters\n",
        "batch_size = 64\n",
        "NUM_WORKERS = 1\n",
        "LR = 2e-4\n",
        "EPOCHS = 20\n",
        "\n",
        "# Model parameters\n",
        "d_model = 64 # Lattent dim\n",
        "q = 8 # Query size\n",
        "v = 8 # Value size\n",
        "h = 8 # Number of heads\n",
        "N = 4 # Number of encoder and decoder to stack\n",
        "# attention_size = 12 # Attention window size\n",
        "attention_size = 12\n",
        "dropout = 0.2 # Dropout rate\n",
        "pe = None # Positional encoding\n",
        "chunk_mode = None\n",
        "\n",
        "d_input = 1 # From dataset\n",
        "d_output = 1 # From dataset\n",
        "\n",
        "# Config\n",
        "sns.set()\n",
        "device = torch.device(\"cuda:0\" if torch.cuda.is_available() else \"cpu\")\n",
        "print(f\"Using device {device}\")"
      ],
      "execution_count": null,
      "outputs": [
        {
          "output_type": "stream",
          "text": [
            "Using device cuda:0\n"
          ],
          "name": "stdout"
        }
      ]
    },
    {
      "cell_type": "code",
      "metadata": {
        "id": "bCRNvs4x8u9h"
      },
      "source": [
        "# Load transformer with Adam optimizer and MSE loss function\n",
        "net = Transformer(d_input, d_model, d_output, q, v, h, N, attention_size=attention_size, dropout=dropout, chunk_mode=chunk_mode, pe=pe).to(device)\n",
        "optimizer = optim.Adam(net.parameters(), lr=LR)\n",
        "loss_function = nn.MSELoss()\n",
        "# loss_function = OZELoss(alpha=0.3)"
      ],
      "execution_count": null,
      "outputs": []
    },
    {
      "cell_type": "code",
      "metadata": {
        "colab": {
          "base_uri": "https://localhost:8080/",
          "height": 195
        },
        "id": "-YWgU5tV8xg1",
        "outputId": "509d660f-54b9-4145-c1ab-338d93f1aae9"
      },
      "source": [
        "import numpy as np\n",
        "import pandas as pd\n",
        "\n",
        "dfx = pd.read_csv('100AffluentHouses.csv')\n",
        "dfx = dfx.drop(columns = ['LCLid', 'Acorn_grouped'])\n",
        "dfx = dfx.reset_index(drop=True)\n",
        "dfx.head()"
      ],
      "execution_count": null,
      "outputs": [
        {
          "output_type": "execute_result",
          "data": {
            "text/html": [
              "<div>\n",
              "<style scoped>\n",
              "    .dataframe tbody tr th:only-of-type {\n",
              "        vertical-align: middle;\n",
              "    }\n",
              "\n",
              "    .dataframe tbody tr th {\n",
              "        vertical-align: top;\n",
              "    }\n",
              "\n",
              "    .dataframe thead th {\n",
              "        text-align: right;\n",
              "    }\n",
              "</style>\n",
              "<table border=\"1\" class=\"dataframe\">\n",
              "  <thead>\n",
              "    <tr style=\"text-align: right;\">\n",
              "      <th></th>\n",
              "      <th>Unnamed: 0</th>\n",
              "      <th>KWH/hh (per half hour)</th>\n",
              "    </tr>\n",
              "  </thead>\n",
              "  <tbody>\n",
              "    <tr>\n",
              "      <th>0</th>\n",
              "      <td>0</td>\n",
              "      <td>0.013</td>\n",
              "    </tr>\n",
              "    <tr>\n",
              "      <th>1</th>\n",
              "      <td>1</td>\n",
              "      <td>0.025</td>\n",
              "    </tr>\n",
              "    <tr>\n",
              "      <th>2</th>\n",
              "      <td>2</td>\n",
              "      <td>0.012</td>\n",
              "    </tr>\n",
              "    <tr>\n",
              "      <th>3</th>\n",
              "      <td>3</td>\n",
              "      <td>0.012</td>\n",
              "    </tr>\n",
              "    <tr>\n",
              "      <th>4</th>\n",
              "      <td>4</td>\n",
              "      <td>0.013</td>\n",
              "    </tr>\n",
              "  </tbody>\n",
              "</table>\n",
              "</div>"
            ],
            "text/plain": [
              "   Unnamed: 0  KWH/hh (per half hour) \n",
              "0           0                    0.013\n",
              "1           1                    0.025\n",
              "2           2                    0.012\n",
              "3           3                    0.012\n",
              "4           4                    0.013"
            ]
          },
          "metadata": {
            "tags": []
          },
          "execution_count": 7
        }
      ]
    },
    {
      "cell_type": "code",
      "metadata": {
        "colab": {
          "base_uri": "https://localhost:8080/"
        },
        "id": "BAs1lNw69Fd_",
        "outputId": "6c2522f0-2dd6-4e5a-dd31-6469ceec378f"
      },
      "source": [
        "dat = []\n",
        "for index, row in dfx.iterrows():\n",
        "    if(row['KWH/hh (per half hour) '] == 'Null'):\n",
        "        row['KWH/hh (per half hour) '] = 0\n",
        "    dat.append(float(row['KWH/hh (per half hour) ']))\n",
        "\n",
        "trainset = pd.DataFrame({\"KWH/hh (per half hour) \" : dat})\n",
        "\n",
        "from sklearn.preprocessing import MinMaxScaler\n",
        "\n",
        "scaler = MinMaxScaler(feature_range = (0,1))\n",
        "trainset_scaled = scaler.fit_transform(trainset)\n",
        "\n",
        "print(len(trainset_scaled))"
      ],
      "execution_count": null,
      "outputs": [
        {
          "output_type": "stream",
          "text": [
            "1704499\n"
          ],
          "name": "stdout"
        }
      ]
    },
    {
      "cell_type": "code",
      "metadata": {
        "colab": {
          "base_uri": "https://localhost:8080/"
        },
        "id": "IeScGW6_izKN",
        "outputId": "340587ac-eaba-4b38-ee51-9fff31de524d"
      },
      "source": [
        "m = min(i for i in trainset_scaled if i > 0)\n",
        "m"
      ],
      "execution_count": null,
      "outputs": [
        {
          "output_type": "execute_result",
          "data": {
            "text/plain": [
              "array([0.00019631])"
            ]
          },
          "metadata": {
            "tags": []
          },
          "execution_count": 9
        }
      ]
    },
    {
      "cell_type": "code",
      "metadata": {
        "id": "vxMzgDJkih6y"
      },
      "source": [
        "# for i in range(len(trainset_scaled)):\n",
        "#   if trainset_scaled[i] == 0:\n",
        "#     trainset_scaled[i] += m"
      ],
      "execution_count": null,
      "outputs": []
    },
    {
      "cell_type": "code",
      "metadata": {
        "colab": {
          "base_uri": "https://localhost:8080/"
        },
        "id": "Wjl7WuaU9ppT",
        "outputId": "ed24b20f-3059-4386-abc7-29ae2caa7ad7"
      },
      "source": [
        "X = []\n",
        "y = []\n",
        "\n",
        "for i in range(25, len(trainset_scaled)):\n",
        "    X.append(np.append(trainset_scaled[i-25:i-1, 0], 0))\n",
        "    y.append(trainset_scaled[i-25:i, 0])\n",
        "X, y = np.array(X), np.array(y)\n",
        "\n",
        "X = np.reshape(X, (X.shape[0], X.shape[1], 1))\n",
        "y = np.reshape(y, (y.shape[0], y.shape[1], 1))\n",
        "\n",
        "print(X.shape)\n",
        "print(y.shape)"
      ],
      "execution_count": null,
      "outputs": [
        {
          "output_type": "stream",
          "text": [
            "(1704474, 25, 1)\n",
            "(1704474, 25, 1)\n"
          ],
          "name": "stdout"
        }
      ]
    },
    {
      "cell_type": "code",
      "metadata": {
        "colab": {
          "base_uri": "https://localhost:8080/"
        },
        "id": "zGw5ywBl6B_f",
        "outputId": "22fe1e83-1826-4bd0-9c66-41fc7d122415"
      },
      "source": [
        "print(X[0])\n",
        "print(y[0])"
      ],
      "execution_count": null,
      "outputs": [
        {
          "output_type": "stream",
          "text": [
            "[[0.00255202]\n",
            " [0.00490773]\n",
            " [0.00235571]\n",
            " [0.00235571]\n",
            " [0.00255202]\n",
            " [0.00255202]\n",
            " [0.00117786]\n",
            " [0.00196309]\n",
            " [0.00255202]\n",
            " [0.00157048]\n",
            " [0.00235571]\n",
            " [0.00176678]\n",
            " [0.00235571]\n",
            " [0.00176678]\n",
            " [0.00255202]\n",
            " [0.00176678]\n",
            " [0.00255202]\n",
            " [0.00176678]\n",
            " [0.00157048]\n",
            " [0.00255202]\n",
            " [0.00157048]\n",
            " [0.        ]\n",
            " [0.        ]\n",
            " [0.        ]\n",
            " [0.        ]]\n",
            "[[0.00255202]\n",
            " [0.00490773]\n",
            " [0.00235571]\n",
            " [0.00235571]\n",
            " [0.00255202]\n",
            " [0.00255202]\n",
            " [0.00117786]\n",
            " [0.00196309]\n",
            " [0.00255202]\n",
            " [0.00157048]\n",
            " [0.00235571]\n",
            " [0.00176678]\n",
            " [0.00235571]\n",
            " [0.00176678]\n",
            " [0.00255202]\n",
            " [0.00176678]\n",
            " [0.00255202]\n",
            " [0.00176678]\n",
            " [0.00157048]\n",
            " [0.00255202]\n",
            " [0.00157048]\n",
            " [0.        ]\n",
            " [0.        ]\n",
            " [0.        ]\n",
            " [0.0021594 ]]\n"
          ],
          "name": "stdout"
        }
      ]
    },
    {
      "cell_type": "code",
      "metadata": {
        "colab": {
          "base_uri": "https://localhost:8080/"
        },
        "id": "ugOcRnHr-QMW",
        "outputId": "ca847f49-9ee1-439b-e20d-0a730607cf8d"
      },
      "source": [
        "from sklearn.utils import shuffle\n",
        "\n",
        "X_train = X[:1700000]\n",
        "X_val = X[1700000:]\n",
        "Y_train = y[:1700000]\n",
        "Y_val = y[1700000:]\n",
        "\n",
        "X_train, Y_train = X_train[:750000], Y_train[:750000]\n",
        "\n",
        "X_train, Y_train = shuffle(X_train, Y_train)\n",
        "\n",
        "print(X_train.shape)\n",
        "print(Y_train.shape)\n",
        "print(X_val.shape)\n",
        "print(Y_val.shape)\n",
        "\n",
        "X_train = torch.FloatTensor(X_train)\n",
        "Y_train = torch.FloatTensor(Y_train)\n",
        "X_val = torch.FloatTensor(X_val)\n",
        "Y_val = torch.FloatTensor(Y_val)"
      ],
      "execution_count": null,
      "outputs": [
        {
          "output_type": "stream",
          "text": [
            "(750000, 25, 1)\n",
            "(750000, 25, 1)\n",
            "(4474, 25, 1)\n",
            "(4474, 25, 1)\n"
          ],
          "name": "stdout"
        }
      ]
    },
    {
      "cell_type": "code",
      "metadata": {
        "colab": {
          "base_uri": "https://localhost:8080/",
          "height": 621
        },
        "id": "FhC39s6R_uey",
        "outputId": "77e42097-530d-452b-e0bb-ed6d60639d30"
      },
      "source": [
        "val_loss_best = np.inf\n",
        "\n",
        "# Prepare loss history\n",
        "hist_loss = np.zeros(EPOCHS)\n",
        "hist_loss_val = np.zeros(EPOCHS)\n",
        "\n",
        "for idx_epoch in range(EPOCHS):\n",
        "    running_loss = []\n",
        "    running_loss_2 = []\n",
        "    with tqdm(total=len(X_train), desc=f\"[Epoch {idx_epoch+1:3d}/{EPOCHS}]\") as pbar:\n",
        "        for i in range(X_train.size(0)//batch_size):\n",
        "            optimizer.zero_grad()\n",
        "\n",
        "            x = X_train[i*batch_size:(i+1)*batch_size]\n",
        "            y = Y_train[i*batch_size:(i+1)*batch_size]\n",
        "\n",
        "            netout = net(x.to(device))\n",
        "            loss = loss_function(y.to(device), netout)\n",
        "            loss.backward()\n",
        "            optimizer.step()\n",
        "            running_loss.append(loss.item())\n",
        "\n",
        "            pbar.set_postfix({'loss': np.mean(running_loss)})\n",
        "            pbar.update(x.shape[0])\n",
        "\n",
        "        # for i in range(X_val.size(0)//batch_size):\n",
        "        #     x = X_val[i*batch_size:(i+1)*batch_size]\n",
        "        #     y = Y_val[i*batch_size:(i+1)*batch_size]\n",
        "        #     with torch.no_grad():\n",
        "        #         netout = net(x.to(device))\n",
        "        #     loss = loss_function(y.to(device), netout)\n",
        "        #     running_loss_2.append(loss.item())\n",
        "\n",
        "        # pbar.set_postfix({'loss': np.mean(running_loss),\n",
        "        #                   'val_loss': np.mean(running_loss_2),\n",
        "        #                   })\n",
        "        # loss.backward()\n",
        "        # optimizer.step()\n",
        "\n",
        "        train_loss = np.mean(running_loss)\n",
        "        pbar.set_postfix({'loss': np.mean(running_loss)})\n",
        "        # val_loss = np.mean(running_loss_2)\n",
        "        # pbar.set_postfix({'loss': train_loss, 'val_loss': val_loss})\n",
        "\n",
        "        hist_loss[idx_epoch] = train_loss\n",
        "        # hist_loss_val[idx_epoch] = val_loss\n",
        "\n",
        "        torch.save(net.state_dict(), f\"models/small_model_2_{idx_epoch+1}_epoch.pth\")\n",
        "\n",
        "        # if val_loss < val_loss_best:\n",
        "        #     val_loss_best = val_loss\n",
        "        #     torch.save(net.state_dict(), model_save_path)\n",
        "\n",
        "plt.plot(hist_loss, 'o-', label='train')\n",
        "\n",
        "# plt.plot(hist_loss_val, 'o-', label='val')\n",
        "plt.legend()\n",
        "# print(f\"model exported to {model_save_path} with loss {val_loss_best:5f}\")"
      ],
      "execution_count": null,
      "outputs": [
        {
          "output_type": "stream",
          "text": [
            "[Epoch   1/20]: 100%|█████████▉| 749952/750000 [07:38<00:00, 1634.13it/s, loss=0.000104]\n",
            "[Epoch   2/20]: 100%|█████████▉| 749952/750000 [07:37<00:00, 1638.22it/s, loss=4.5e-5]\n",
            "[Epoch   3/20]: 100%|█████████▉| 749952/750000 [07:40<00:00, 1626.92it/s, loss=3.98e-5]\n",
            "[Epoch   4/20]: 100%|█████████▉| 749952/750000 [07:38<00:00, 1634.85it/s, loss=3.84e-5]\n",
            "[Epoch   5/20]: 100%|█████████▉| 749952/750000 [07:37<00:00, 1638.13it/s, loss=3.69e-5]\n",
            "[Epoch   6/20]: 100%|█████████▉| 749952/750000 [07:42<00:00, 1622.29it/s, loss=3.62e-5]\n",
            "[Epoch   7/20]: 100%|█████████▉| 749952/750000 [07:41<00:00, 1624.98it/s, loss=3.57e-5]\n",
            "[Epoch   8/20]: 100%|█████████▉| 749952/750000 [07:42<00:00, 1622.28it/s, loss=3.53e-5]\n",
            "[Epoch   9/20]: 100%|█████████▉| 749952/750000 [07:42<00:00, 1621.58it/s, loss=3.5e-5]\n",
            "[Epoch  10/20]: 100%|█████████▉| 749952/750000 [07:37<00:00, 1638.63it/s, loss=3.47e-5]\n",
            "[Epoch  11/20]: 100%|█████████▉| 749952/750000 [07:37<00:00, 1639.26it/s, loss=3.49e-5]\n",
            "[Epoch  12/20]: 100%|█████████▉| 749952/750000 [07:37<00:00, 1638.57it/s, loss=3.43e-5]\n",
            "[Epoch  13/20]: 100%|█████████▉| 749952/750000 [07:36<00:00, 1644.54it/s, loss=3.43e-5]\n",
            "[Epoch  14/20]: 100%|█████████▉| 749952/750000 [07:36<00:00, 1644.03it/s, loss=3.41e-5]\n",
            "[Epoch  15/20]: 100%|█████████▉| 749952/750000 [07:36<00:00, 1643.16it/s, loss=3.41e-5]\n",
            "[Epoch  16/20]: 100%|█████████▉| 749952/750000 [07:37<00:00, 1641.00it/s, loss=3.38e-5]\n",
            "[Epoch  17/20]: 100%|█████████▉| 749952/750000 [07:35<00:00, 1646.67it/s, loss=3.39e-5]\n",
            "[Epoch  18/20]: 100%|█████████▉| 749952/750000 [07:36<00:00, 1641.72it/s, loss=3.37e-5]\n",
            "[Epoch  19/20]: 100%|█████████▉| 749952/750000 [07:38<00:00, 1635.15it/s, loss=3.36e-5]\n",
            "[Epoch  20/20]: 100%|█████████▉| 749952/750000 [07:43<00:00, 1617.25it/s, loss=3.36e-5]\n"
          ],
          "name": "stderr"
        },
        {
          "output_type": "execute_result",
          "data": {
            "text/plain": [
              "<matplotlib.legend.Legend at 0x7faa3c037ed0>"
            ]
          },
          "metadata": {
            "tags": []
          },
          "execution_count": 14
        },
        {
          "output_type": "display_data",
          "data": {
            "image/png": "[encoded data removed]",
            "text/plain": [
              "<Figure size 432x288 with 1 Axes>"
            ]
          },
          "metadata": {
            "tags": []
          }
        }
      ]
    },
    {
      "cell_type": "markdown",
      "metadata": {
        "id": "hjxq9b5QJdUt"
      },
      "source": [
        "# Real loss and Graph"
      ]
    },
    {
      "cell_type": "code",
      "metadata": {
        "id": "9g4c1VMB8j2a",
        "colab": {
          "base_uri": "https://localhost:8080/",
          "height": 268
        },
        "outputId": "d090582a-3579-456e-ca65-60363384aed8"
      },
      "source": [
        "plt.plot(hist_loss, 'o-', label='train')\n",
        "plt.legend()\n",
        "plt.savefig('small_loss_4_layer.png')"
      ],
      "execution_count": null,
      "outputs": [
        {
          "output_type": "display_data",
          "data": {
            "image/png": "[encoded data removed]",
            "text/plain": [
              "<Figure size 432x288 with 1 Axes>"
            ]
          },
          "metadata": {
            "tags": []
          }
        }
      ]
    },
    {
      "cell_type": "code",
      "metadata": {
        "id": "8LY8faelHiro",
        "colab": {
          "base_uri": "https://localhost:8080/"
        },
        "outputId": "9e147d6c-7b38-4ff1-d5df-8ae359bcf45e"
      },
      "source": [
        "x = X_val[-100:]\n",
        "y = Y_val[-100:]\n",
        "\n",
        "print(x.shape, y.shape)\n",
        "\n",
        "pred = net(x.to(device))\n",
        "pred = pred.cpu().detach()\n",
        "\n",
        "print(pred.shape)"
      ],
      "execution_count": null,
      "outputs": [
        {
          "output_type": "stream",
          "text": [
            "torch.Size([100, 25, 1]) torch.Size([100, 25, 1])\n",
            "torch.Size([100, 25, 1])\n"
          ],
          "name": "stdout"
        }
      ]
    },
    {
      "cell_type": "code",
      "metadata": {
        "id": "a5cESXQyJuFF",
        "colab": {
          "base_uri": "https://localhost:8080/"
        },
        "outputId": "76f92d00-be12-40d7-d961-f5a2503b12d9"
      },
      "source": [
        "pred = np.reshape(pred, (pred.shape[0], pred.shape[1]))\n",
        "y = np.reshape(y, (y.shape[0], y.shape[1]))\n",
        "\n",
        "pred = [lis[-1] for lis in pred]\n",
        "y = [lis[-1] for lis in y]\n",
        "\n",
        "y = np.array(y)\n",
        "pred = np.array(pred)\n",
        "\n",
        "print(y.shape, pred.shape)"
      ],
      "execution_count": null,
      "outputs": [
        {
          "output_type": "stream",
          "text": [
            "(100,) (100,)\n"
          ],
          "name": "stdout"
        }
      ]
    },
    {
      "cell_type": "code",
      "metadata": {
        "id": "5VCx2Z0KJvjr"
      },
      "source": [
        "pred = np.reshape(pred, (pred.shape[0], 1))\n",
        "y = np.reshape(y, (y.shape[0], 1))\n",
        "\n",
        "pred = scaler.inverse_transform(pred)\n",
        "y = scaler.inverse_transform(y)"
      ],
      "execution_count": null,
      "outputs": []
    },
    {
      "cell_type": "code",
      "metadata": {
        "id": "ogwC6JrjJyWa",
        "colab": {
          "base_uri": "https://localhost:8080/",
          "height": 285
        },
        "outputId": "440f720a-b5e6-418b-8787-53415383ea77"
      },
      "source": [
        "plt.plot(y, color = 'Red', label = 'Real')\n",
        "plt.plot(pred, color = 'Blue', label = 'Predicted')\n",
        "plt.xlabel('Time')\n",
        "plt.ylabel('load')\n",
        "plt.legend()\n",
        "plt.show()"
      ],
      "execution_count": null,
      "outputs": [
        {
          "output_type": "display_data",
          "data": {
            "image/png": "[encoded data removed]",
            "text/plain": [
              "<Figure size 432x288 with 1 Axes>"
            ]
          },
          "metadata": {
            "tags": []
          }
        }
      ]
    },
    {
      "cell_type": "code",
      "metadata": {
        "id": "9_zNa168Jz4y"
      },
      "source": [
        "from sklearn.metrics import mean_squared_error\n",
        "\n",
        "p = []\n",
        "t = []\n",
        "\n",
        "for i in tqdm(range(X_val.size(0))):\n",
        "    x = X_val[i]\n",
        "    x = np.expand_dims(x, axis=0)\n",
        "    x = torch.from_numpy(x)\n",
        "    with torch.no_grad():\n",
        "        pred = net(x.to(device))\n",
        "    pred = pred.view(pred.shape[1], pred.shape[2])\n",
        "    p.append(pred.cpu().detach())"
      ],
      "execution_count": null,
      "outputs": []
    },
    {
      "cell_type": "code",
      "metadata": {
        "id": "hWgDLL2ocdLL"
      },
      "source": [
        "p = [t.numpy() for t in p]\n",
        "p = np.array(p)\n",
        "\n",
        "pred = np.reshape(p, (p.shape[0], p.shape[1]))\n",
        "y = np.reshape(Y_val, (Y_val.shape[0], Y_val.shape[1]))\n",
        "\n",
        "pred = [lis[-1] for lis in pred]\n",
        "y = [lis[-1] for lis in y]\n",
        "\n",
        "y = np.array(y)\n",
        "pred = np.array(pred)\n",
        "\n",
        "print(y.shape, pred.shape)"
      ],
      "execution_count": null,
      "outputs": []
    },
    {
      "cell_type": "code",
      "metadata": {
        "id": "7OLFdKl7mQa4"
      },
      "source": [
        "mse = (mean_squared_error(y, pred))\n",
        "mse"
      ],
      "execution_count": null,
      "outputs": []
    },
    {
      "cell_type": "code",
      "metadata": {
        "id": "DDtJ4qlNlYuB"
      },
      "source": [
        "pred = np.reshape(pred, (pred.shape[0], 1))\n",
        "y = np.reshape(y, (y.shape[0], 1))\n",
        "\n",
        "pred = scaler.inverse_transform(pred)\n",
        "y = scaler.inverse_transform(y)\n",
        "\n",
        "mse = (mean_squared_error(y, pred))\n",
        "mse"
      ],
      "execution_count": null,
      "outputs": []
    },
    {
      "cell_type": "code",
      "metadata": {
        "id": "rt03RNX0SVRS"
      },
      "source": [
        "from sklearn.metrics import (mean_squared_error,\n",
        "                             mean_absolute_error,\n",
        "                             median_absolute_error,\n",
        "                            #  mean_absolute_percentage_error,\n",
        "                             r2_score)\n",
        "\n",
        "def mean_absolute_percentage_error(y_true, y_pred):\n",
        "    y_true = y_true + 1e-10\n",
        "    y_pred = y_pred + 1e-10\n",
        "    return np.mean(np.abs((y_true - y_pred) / (y_true))) * 100\n",
        "\n",
        "mse = (mean_squared_error(y, pred))\n",
        "rmse = mean_squared_error(y, pred, squared=False)\n",
        "mae = (mean_absolute_error(y, pred))\n",
        "medae = (median_absolute_error(y, pred))\n",
        "r2 = (r2_score(y, pred))\n",
        "mape = (mean_absolute_percentage_error(y, pred))\n",
        "\n",
        "print(\"MSE: \", mse)\n",
        "print(\"RMSE: \", rmse)\n",
        "print(\"MAE: \", mae)\n",
        "print(\"MedAE: \", medae)\n",
        "print(\"R^2: \", r2)\n",
        "print(\"MAPE: \", mape)"
      ],
      "execution_count": null,
      "outputs": []
    },
    {
      "cell_type": "markdown",
      "metadata": {
        "id": "ePlFLhn91dFQ"
      },
      "source": [
        "# Testing"
      ]
    },
    {
      "cell_type": "code",
      "metadata": {
        "id": "tlaj3Rht1eUJ"
      },
      "source": [
        "import datetime\n",
        "\n",
        "import numpy as np\n",
        "from matplotlib import pyplot as plt\n",
        "import torch\n",
        "import torch.nn as nn\n",
        "import torch.optim as optim\n",
        "from torch.utils.data import DataLoader, random_split\n",
        "from tqdm import tqdm\n",
        "import seaborn as sns\n",
        "\n",
        "from tst import Transformer"
      ],
      "execution_count": null,
      "outputs": []
    },
    {
      "cell_type": "code",
      "metadata": {
        "id": "nGqtkHd11hh2",
        "colab": {
          "base_uri": "https://localhost:8080/"
        },
        "outputId": "a88090d9-cfff-4991-aa69-ed74b04e29fe"
      },
      "source": [
        "# Training parameters\n",
        "batch_size = 64\n",
        "NUM_WORKERS = 1\n",
        "LR = 2e-4\n",
        "EPOCHS = 10\n",
        "\n",
        "# Model parameters\n",
        "d_model = 64 # Lattent dim\n",
        "q = 8 # Query size\n",
        "v = 8 # Value size\n",
        "h = 8 # Number of heads\n",
        "N = 4 # Number of encoder and decoder to stack\n",
        "# attention_size = 12 # Attention window size\n",
        "attention_size = 12\n",
        "dropout = 0.2 # Dropout rate\n",
        "pe = None # Positional encoding\n",
        "chunk_mode = None\n",
        "\n",
        "d_input = 1 # From dataset\n",
        "d_output = 1 # From dataset\n",
        "\n",
        "# Config\n",
        "sns.set()\n",
        "device = torch.device(\"cuda:0\" if torch.cuda.is_available() else \"cpu\")\n",
        "print(f\"Using device {device}\")"
      ],
      "execution_count": null,
      "outputs": [
        {
          "output_type": "stream",
          "text": [
            "Using device cuda:0\n"
          ],
          "name": "stdout"
        }
      ]
    },
    {
      "cell_type": "code",
      "metadata": {
        "id": "lGRVZTRY1jzR"
      },
      "source": [
        "# Load transformer with Adam optimizer and MSE loss function\n",
        "net = Transformer(d_input, d_model, d_output, q, v, h, N, attention_size=attention_size, dropout=dropout, chunk_mode=chunk_mode, pe=pe).to(device)\n",
        "optimizer = optim.Adam(net.parameters(), lr=LR)\n",
        "loss_function = nn.MSELoss()\n",
        "# loss_function = OZELoss(alpha=0.3)"
      ],
      "execution_count": null,
      "outputs": []
    },
    {
      "cell_type": "code",
      "metadata": {
        "id": "tYc8LI_N1ncc",
        "colab": {
          "base_uri": "https://localhost:8080/",
          "height": 195
        },
        "outputId": "4a88fa4c-bd1c-4847-925e-68357338b384"
      },
      "source": [
        "import numpy as np\n",
        "import pandas as pd\n",
        "\n",
        "dfx = pd.read_csv('10TestHouses.csv')\n",
        "dfx = dfx.drop(columns = ['LCLid', 'Acorn_grouped'])\n",
        "dfx = dfx.reset_index(drop=True)\n",
        "dfx.head()"
      ],
      "execution_count": null,
      "outputs": [
        {
          "output_type": "execute_result",
          "data": {
            "text/html": [
              "<div>\n",
              "<style scoped>\n",
              "    .dataframe tbody tr th:only-of-type {\n",
              "        vertical-align: middle;\n",
              "    }\n",
              "\n",
              "    .dataframe tbody tr th {\n",
              "        vertical-align: top;\n",
              "    }\n",
              "\n",
              "    .dataframe thead th {\n",
              "        text-align: right;\n",
              "    }\n",
              "</style>\n",
              "<table border=\"1\" class=\"dataframe\">\n",
              "  <thead>\n",
              "    <tr style=\"text-align: right;\">\n",
              "      <th></th>\n",
              "      <th>Unnamed: 0</th>\n",
              "      <th>KWH/hh (per half hour)</th>\n",
              "    </tr>\n",
              "  </thead>\n",
              "  <tbody>\n",
              "    <tr>\n",
              "      <th>0</th>\n",
              "      <td>0</td>\n",
              "      <td>0.048</td>\n",
              "    </tr>\n",
              "    <tr>\n",
              "      <th>1</th>\n",
              "      <td>1</td>\n",
              "      <td>0.143</td>\n",
              "    </tr>\n",
              "    <tr>\n",
              "      <th>2</th>\n",
              "      <td>2</td>\n",
              "      <td>0.059</td>\n",
              "    </tr>\n",
              "    <tr>\n",
              "      <th>3</th>\n",
              "      <td>3</td>\n",
              "      <td>0.134</td>\n",
              "    </tr>\n",
              "    <tr>\n",
              "      <th>4</th>\n",
              "      <td>4</td>\n",
              "      <td>0.054</td>\n",
              "    </tr>\n",
              "  </tbody>\n",
              "</table>\n",
              "</div>"
            ],
            "text/plain": [
              "   Unnamed: 0  KWH/hh (per half hour) \n",
              "0           0                    0.048\n",
              "1           1                    0.143\n",
              "2           2                    0.059\n",
              "3           3                    0.134\n",
              "4           4                    0.054"
            ]
          },
          "metadata": {
            "tags": []
          },
          "execution_count": 32
        }
      ]
    },
    {
      "cell_type": "code",
      "metadata": {
        "id": "iyoXT-LW1-kt",
        "colab": {
          "base_uri": "https://localhost:8080/"
        },
        "outputId": "761fe32e-5f3a-417f-8aab-2e44b6ae33e4"
      },
      "source": [
        "dat = []\n",
        "for index, row in dfx.iterrows():\n",
        "    if(row['KWH/hh (per half hour) '] == 'Null'):\n",
        "        row['KWH/hh (per half hour) '] = 0\n",
        "    dat.append(float(row['KWH/hh (per half hour) ']))\n",
        "\n",
        "trainset = pd.DataFrame({\"KWH/hh (per half hour) \" : dat})\n",
        "\n",
        "from sklearn.preprocessing import MinMaxScaler\n",
        "\n",
        "scaler = MinMaxScaler(feature_range = (0,1))\n",
        "trainset_scaled = scaler.fit_transform(trainset)\n",
        "\n",
        "print(len(trainset_scaled))"
      ],
      "execution_count": null,
      "outputs": [
        {
          "output_type": "stream",
          "text": [
            "175301\n"
          ],
          "name": "stdout"
        }
      ]
    },
    {
      "cell_type": "code",
      "metadata": {
        "id": "fqNZZfCZ2Lal",
        "colab": {
          "base_uri": "https://localhost:8080/"
        },
        "outputId": "525ec911-611e-47f1-a346-9baadecf37cf"
      },
      "source": [
        "X = []\n",
        "y = []\n",
        "\n",
        "for i in range(25, len(trainset_scaled)):\n",
        "    X.append(np.append(trainset_scaled[i-25:i-1, 0], 0))\n",
        "    y.append(trainset_scaled[i-25:i, 0])\n",
        "X, y = np.array(X), np.array(y)\n",
        "\n",
        "X = np.reshape(X, (X.shape[0], X.shape[1], 1))\n",
        "y = np.reshape(y, (y.shape[0], y.shape[1], 1))\n",
        "\n",
        "print(X.shape)\n",
        "print(y.shape)\n",
        "# print(X[5])\n",
        "# print(y[5])"
      ],
      "execution_count": null,
      "outputs": [
        {
          "output_type": "stream",
          "text": [
            "(175276, 25, 1)\n",
            "(175276, 25, 1)\n"
          ],
          "name": "stdout"
        }
      ]
    },
    {
      "cell_type": "code",
      "metadata": {
        "id": "bf3MJHl92Tz9",
        "colab": {
          "base_uri": "https://localhost:8080/"
        },
        "outputId": "00f5d78c-e680-412a-a9bc-eaac03a2d01b"
      },
      "source": [
        "net.load_state_dict(torch.load(\"models/model_4.pth\"))"
      ],
      "execution_count": null,
      "outputs": [
        {
          "output_type": "execute_result",
          "data": {
            "text/plain": [
              "<All keys matched successfully>"
            ]
          },
          "metadata": {
            "tags": []
          },
          "execution_count": 35
        }
      ]
    },
    {
      "cell_type": "code",
      "metadata": {
        "id": "Rv73ma7Z2x6K",
        "colab": {
          "base_uri": "https://localhost:8080/"
        },
        "outputId": "2721f27f-58d8-48c5-af85-767633c8e294"
      },
      "source": [
        "p = []\n",
        "t = []\n",
        "X = torch.FloatTensor(X)\n",
        "y = torch.FloatTensor(y)\n",
        "\n",
        "for i in tqdm(range(X.size(0))):\n",
        "    x = X[i]\n",
        "    x = np.expand_dims(x, axis=0)\n",
        "    x = torch.from_numpy(x)\n",
        "    with torch.no_grad():\n",
        "        pred = net(x.to(device))\n",
        "    pred = pred.view(pred.shape[1], pred.shape[2])\n",
        "    p.append(pred.cpu().detach())"
      ],
      "execution_count": null,
      "outputs": [
        {
          "output_type": "stream",
          "text": [
            "100%|██████████| 175276/175276 [44:41<00:00, 65.37it/s]\n"
          ],
          "name": "stderr"
        }
      ]
    },
    {
      "cell_type": "code",
      "metadata": {
        "id": "OZkvbhli3OP8",
        "colab": {
          "base_uri": "https://localhost:8080/"
        },
        "outputId": "9cb0d5ca-d049-4381-a0f3-eeb1671cf5aa"
      },
      "source": [
        "p = [t.numpy() for t in p]\n",
        "p = np.array(p)\n",
        "\n",
        "pred = np.reshape(p, (p.shape[0], p.shape[1]))\n",
        "y = np.reshape(y, (y.shape[0], y.shape[1]))\n",
        "\n",
        "pred = [lis[-1] for lis in pred]\n",
        "y = [lis[-1] for lis in y]\n",
        "\n",
        "y = np.array(y)\n",
        "pred = np.array(pred)\n",
        "\n",
        "print(y.shape)\n",
        "print(pred.shape)"
      ],
      "execution_count": null,
      "outputs": [
        {
          "output_type": "stream",
          "text": [
            "(175276,)\n",
            "(175276,)\n"
          ],
          "name": "stdout"
        }
      ]
    },
    {
      "cell_type": "code",
      "metadata": {
        "id": "uh9NVIUww_ki",
        "colab": {
          "base_uri": "https://localhost:8080/"
        },
        "outputId": "3840cbc0-9163-46a4-e77d-4ecac1276802"
      },
      "source": [
        "pred = np.reshape(pred, (pred.shape[0], 1))\n",
        "y = np.reshape(y, (y.shape[0], 1))\n",
        "\n",
        "pred = scaler.inverse_transform(pred)\n",
        "y = scaler.inverse_transform(y)\n",
        "\n",
        "print(y.shape)\n",
        "print(pred.shape)"
      ],
      "execution_count": null,
      "outputs": [
        {
          "output_type": "stream",
          "text": [
            "(175276, 1)\n",
            "(175276, 1)\n"
          ],
          "name": "stdout"
        }
      ]
    },
    {
      "cell_type": "code",
      "metadata": {
        "id": "ncyukBP95d6-",
        "colab": {
          "base_uri": "https://localhost:8080/"
        },
        "outputId": "665d060f-240e-400e-f095-0b487918f3fd"
      },
      "source": [
        "from sklearn.metrics import (mean_squared_error,\n",
        "                             mean_absolute_error,\n",
        "                             median_absolute_error,\n",
        "                            #  mean_absolute_percentage_error,\n",
        "                             r2_score)\n",
        "\n",
        "def mean_absolute_percentage_error(y_true, y_pred):\n",
        "    y_true = y_true + min(y_pred)\n",
        "    y_pred = y_pred + min(y_pred)\n",
        "    return np.mean(np.abs((y_true - y_pred) / (y_true))) * 100\n",
        "\n",
        "mse = (mean_squared_error(y, pred))\n",
        "rmse = mean_squared_error(y, pred, squared=False)\n",
        "mae = (mean_absolute_error(y, pred))\n",
        "medae = (median_absolute_error(y, pred))\n",
        "r2 = (r2_score(y, pred))\n",
        "mape = (mean_absolute_percentage_error(y, pred))\n",
        "\n",
        "print(\"MSE: \", mse)\n",
        "print(\"RMSE: \", rmse)\n",
        "print(\"MAE: \", mae)\n",
        "print(\"MedAE: \", medae)\n",
        "print(\"R^2: \", r2)\n",
        "print(\"MAPE: \", mape)"
      ],
      "execution_count": null,
      "outputs": [
        {
          "output_type": "stream",
          "text": [
            "MSE:  0.055611774\n",
            "RMSE:  0.23582149\n",
            "MAE:  0.12621076\n",
            "MedAE:  0.06928354\n",
            "R^2:  0.5608967663655948\n",
            "MAPE:  77.66411900520325\n"
          ],
          "name": "stdout"
        }
      ]
    },
    {
      "cell_type": "code",
      "metadata": {
        "colab": {
          "base_uri": "https://localhost:8080/",
          "height": 285
        },
        "id": "5sqnR1RpUDLf",
        "outputId": "e42b27a0-724a-4f75-8224-2541a38183a3"
      },
      "source": [
        "plt.plot(y[1000:1100], color = 'Red', label = 'Real')\n",
        "plt.plot(pred[1000:1100], color = 'Blue', label = 'Predicted')\n",
        "plt.xlabel('Time')\n",
        "plt.ylabel('load')\n",
        "plt.legend()\n",
        "plt.savefig('transformer_graph.png')\n",
        "plt.show()"
      ],
      "execution_count": null,
      "outputs": [
        {
          "output_type": "display_data",
          "data": {
            "image/png": "[encoded data removed]",
            "text/plain": [
              "<Figure size 432x288 with 1 Axes>"
            ]
          },
          "metadata": {
            "tags": []
          }
        }
      ]
    }
  ]
}